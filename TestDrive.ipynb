{
 "cells": [
  {
   "cell_type": "code",
   "execution_count": 12,
   "metadata": {},
   "outputs": [
    {
     "name": "stdout",
     "output_type": "stream",
     "text": [
      "The area of the circle with radius 5 is: 78.53981633974483\n"
     ]
    }
   ],
   "source": [
    "import math \n",
    "radius = 5\n",
    "area = math.pi * radius ** 2\n",
    "\n",
    "print(\"The area of the circle with radius\", radius, \"is:\", area)"
   ]
  },
  {
   "cell_type": "code",
   "execution_count": 13,
   "metadata": {},
   "outputs": [
    {
     "name": "stdout",
     "output_type": "stream",
     "text": [
      "The factorial of 5 is: 120\n"
     ]
    }
   ],
   "source": [
    "def factorial(n):\n",
    "    if n == 0:\n",
    "        return 1\n",
    "    else:\n",
    "        return n * factorial(n - 1)\n",
    "\n",
    "number = 5\n",
    "fact = factorial(number)\n",
    "\n",
    "print(\"The factorial of\", number, \"is:\", fact)"
   ]
  },
  {
   "cell_type": "code",
   "execution_count": 14,
   "metadata": {},
   "outputs": [
    {
     "name": "stdout",
     "output_type": "stream",
     "text": [
      "The sum of 10 and 5 is: 15\n"
     ]
    }
   ],
   "source": [
    "num1 = 10\n",
    "num2 = 5\n",
    "sum = num1 + num2\n",
    "\n",
    "print(\"The sum of\", num1, \"and\", num2, \"is:\", sum)"
   ]
  },
  {
   "cell_type": "code",
   "execution_count": 15,
   "metadata": {},
   "outputs": [
    {
     "name": "stdout",
     "output_type": "stream",
     "text": [
      "The square root of 16 is: 4.0\n"
     ]
    }
   ],
   "source": [
    "number = 16\n",
    "square_root = math.sqrt(number)\n",
    "\n",
    "print(\"The square root of\", number, \"is:\", square_root)"
   ]
  },
  {
   "cell_type": "code",
   "execution_count": 16,
   "metadata": {},
   "outputs": [
    {
     "name": "stdout",
     "output_type": "stream",
     "text": [
      "The area of the rectangle with length 8 and width 5 is: 40\n"
     ]
    }
   ],
   "source": [
    "length = 8\n",
    "width = 5\n",
    "area = length * width\n",
    "\n",
    "print(\"The area of the rectangle with length\", length, \"and width\", width, \"is:\", area)"
   ]
  },
  {
   "cell_type": "code",
   "execution_count": 17,
   "metadata": {},
   "outputs": [
    {
     "name": "stdout",
     "output_type": "stream",
     "text": [
      "The square of 7 is: 49\n"
     ]
    }
   ],
   "source": [
    "number = 7\n",
    "square = number ** 2\n",
    "\n",
    "print(\"The square of\", number, \"is:\", square)"
   ]
  }
 ],
 "metadata": {
  "kernelspec": {
   "display_name": ".venv",
   "language": "python",
   "name": "python3"
  },
  "language_info": {
   "codemirror_mode": {
    "name": "ipython",
    "version": 3
   },
   "file_extension": ".py",
   "mimetype": "text/x-python",
   "name": "python",
   "nbconvert_exporter": "python",
   "pygments_lexer": "ipython3",
   "version": "3.12.3"
  }
 },
 "nbformat": 4,
 "nbformat_minor": 2
}
